{
 "cells": [
  {
   "cell_type": "code",
   "execution_count": 1,
   "id": "c3c7b2ce",
   "metadata": {},
   "outputs": [],
   "source": [
    "import numpy as np\n",
    "import pandas as pd\n",
    "import matplotlib.pyplot as plt\n",
    "import seaborn as sb\n",
    " \n",
    "import tensorflow as tf\n",
    "from tensorflow import keras\n",
    "from keras import layers\n",
    " \n",
    "import warnings\n",
    "warnings.filterwarnings('ignore')"
   ]
  },
  {
   "cell_type": "code",
   "execution_count": 2,
   "id": "5c9dcb4f",
   "metadata": {},
   "outputs": [
    {
     "data": {
      "text/html": [
       "<div>\n",
       "<style scoped>\n",
       "    .dataframe tbody tr th:only-of-type {\n",
       "        vertical-align: middle;\n",
       "    }\n",
       "\n",
       "    .dataframe tbody tr th {\n",
       "        vertical-align: top;\n",
       "    }\n",
       "\n",
       "    .dataframe thead th {\n",
       "        text-align: right;\n",
       "    }\n",
       "</style>\n",
       "<table border=\"1\" class=\"dataframe\">\n",
       "  <thead>\n",
       "    <tr style=\"text-align: right;\">\n",
       "      <th></th>\n",
       "      <th>mpg</th>\n",
       "      <th>cylinders</th>\n",
       "      <th>displacement</th>\n",
       "      <th>horsepower</th>\n",
       "      <th>weight</th>\n",
       "      <th>acceleration</th>\n",
       "      <th>model year</th>\n",
       "      <th>origin</th>\n",
       "      <th>car name</th>\n",
       "    </tr>\n",
       "  </thead>\n",
       "  <tbody>\n",
       "    <tr>\n",
       "      <th>0</th>\n",
       "      <td>18.0</td>\n",
       "      <td>8</td>\n",
       "      <td>307.0</td>\n",
       "      <td>130</td>\n",
       "      <td>3504</td>\n",
       "      <td>12.0</td>\n",
       "      <td>70</td>\n",
       "      <td>1</td>\n",
       "      <td>chevrolet chevelle malibu</td>\n",
       "    </tr>\n",
       "    <tr>\n",
       "      <th>1</th>\n",
       "      <td>15.0</td>\n",
       "      <td>8</td>\n",
       "      <td>350.0</td>\n",
       "      <td>165</td>\n",
       "      <td>3693</td>\n",
       "      <td>11.5</td>\n",
       "      <td>70</td>\n",
       "      <td>1</td>\n",
       "      <td>buick skylark 320</td>\n",
       "    </tr>\n",
       "    <tr>\n",
       "      <th>2</th>\n",
       "      <td>18.0</td>\n",
       "      <td>8</td>\n",
       "      <td>318.0</td>\n",
       "      <td>150</td>\n",
       "      <td>3436</td>\n",
       "      <td>11.0</td>\n",
       "      <td>70</td>\n",
       "      <td>1</td>\n",
       "      <td>plymouth satellite</td>\n",
       "    </tr>\n",
       "    <tr>\n",
       "      <th>3</th>\n",
       "      <td>16.0</td>\n",
       "      <td>8</td>\n",
       "      <td>304.0</td>\n",
       "      <td>150</td>\n",
       "      <td>3433</td>\n",
       "      <td>12.0</td>\n",
       "      <td>70</td>\n",
       "      <td>1</td>\n",
       "      <td>amc rebel sst</td>\n",
       "    </tr>\n",
       "    <tr>\n",
       "      <th>4</th>\n",
       "      <td>17.0</td>\n",
       "      <td>8</td>\n",
       "      <td>302.0</td>\n",
       "      <td>140</td>\n",
       "      <td>3449</td>\n",
       "      <td>10.5</td>\n",
       "      <td>70</td>\n",
       "      <td>1</td>\n",
       "      <td>ford torino</td>\n",
       "    </tr>\n",
       "  </tbody>\n",
       "</table>\n",
       "</div>"
      ],
      "text/plain": [
       "    mpg  cylinders  displacement horsepower  weight  acceleration  model year  \\\n",
       "0  18.0          8         307.0        130    3504          12.0          70   \n",
       "1  15.0          8         350.0        165    3693          11.5          70   \n",
       "2  18.0          8         318.0        150    3436          11.0          70   \n",
       "3  16.0          8         304.0        150    3433          12.0          70   \n",
       "4  17.0          8         302.0        140    3449          10.5          70   \n",
       "\n",
       "   origin                   car name  \n",
       "0       1  chevrolet chevelle malibu  \n",
       "1       1          buick skylark 320  \n",
       "2       1         plymouth satellite  \n",
       "3       1              amc rebel sst  \n",
       "4       1                ford torino  "
      ]
     },
     "execution_count": 2,
     "metadata": {},
     "output_type": "execute_result"
    }
   ],
   "source": [
    "df = pd.read_csv('auto-mpg.csv')\n",
    "df.head()"
   ]
  },
  {
   "cell_type": "code",
   "execution_count": 3,
   "id": "20971983",
   "metadata": {},
   "outputs": [
    {
     "data": {
      "text/plain": [
       "(398, 9)"
      ]
     },
     "execution_count": 3,
     "metadata": {},
     "output_type": "execute_result"
    }
   ],
   "source": [
    "df.shape"
   ]
  },
  {
   "cell_type": "code",
   "execution_count": 4,
   "id": "8f55e7e3",
   "metadata": {},
   "outputs": [
    {
     "name": "stdout",
     "output_type": "stream",
     "text": [
      "<class 'pandas.core.frame.DataFrame'>\n",
      "RangeIndex: 398 entries, 0 to 397\n",
      "Data columns (total 9 columns):\n",
      " #   Column        Non-Null Count  Dtype  \n",
      "---  ------        --------------  -----  \n",
      " 0   mpg           398 non-null    float64\n",
      " 1   cylinders     398 non-null    int64  \n",
      " 2   displacement  398 non-null    float64\n",
      " 3   horsepower    398 non-null    object \n",
      " 4   weight        398 non-null    int64  \n",
      " 5   acceleration  398 non-null    float64\n",
      " 6   model year    398 non-null    int64  \n",
      " 7   origin        398 non-null    int64  \n",
      " 8   car name      398 non-null    object \n",
      "dtypes: float64(3), int64(4), object(2)\n",
      "memory usage: 28.1+ KB\n"
     ]
    }
   ],
   "source": [
    "df.info()"
   ]
  },
  {
   "cell_type": "code",
   "execution_count": 5,
   "id": "18026102",
   "metadata": {},
   "outputs": [
    {
     "data": {
      "text/html": [
       "<div>\n",
       "<style scoped>\n",
       "    .dataframe tbody tr th:only-of-type {\n",
       "        vertical-align: middle;\n",
       "    }\n",
       "\n",
       "    .dataframe tbody tr th {\n",
       "        vertical-align: top;\n",
       "    }\n",
       "\n",
       "    .dataframe thead th {\n",
       "        text-align: right;\n",
       "    }\n",
       "</style>\n",
       "<table border=\"1\" class=\"dataframe\">\n",
       "  <thead>\n",
       "    <tr style=\"text-align: right;\">\n",
       "      <th></th>\n",
       "      <th>mpg</th>\n",
       "      <th>cylinders</th>\n",
       "      <th>displacement</th>\n",
       "      <th>weight</th>\n",
       "      <th>acceleration</th>\n",
       "      <th>model year</th>\n",
       "      <th>origin</th>\n",
       "    </tr>\n",
       "  </thead>\n",
       "  <tbody>\n",
       "    <tr>\n",
       "      <th>count</th>\n",
       "      <td>398.000000</td>\n",
       "      <td>398.000000</td>\n",
       "      <td>398.000000</td>\n",
       "      <td>398.000000</td>\n",
       "      <td>398.000000</td>\n",
       "      <td>398.000000</td>\n",
       "      <td>398.000000</td>\n",
       "    </tr>\n",
       "    <tr>\n",
       "      <th>mean</th>\n",
       "      <td>23.514573</td>\n",
       "      <td>5.454774</td>\n",
       "      <td>193.425879</td>\n",
       "      <td>2970.424623</td>\n",
       "      <td>15.568090</td>\n",
       "      <td>76.010050</td>\n",
       "      <td>1.572864</td>\n",
       "    </tr>\n",
       "    <tr>\n",
       "      <th>std</th>\n",
       "      <td>7.815984</td>\n",
       "      <td>1.701004</td>\n",
       "      <td>104.269838</td>\n",
       "      <td>846.841774</td>\n",
       "      <td>2.757689</td>\n",
       "      <td>3.697627</td>\n",
       "      <td>0.802055</td>\n",
       "    </tr>\n",
       "    <tr>\n",
       "      <th>min</th>\n",
       "      <td>9.000000</td>\n",
       "      <td>3.000000</td>\n",
       "      <td>68.000000</td>\n",
       "      <td>1613.000000</td>\n",
       "      <td>8.000000</td>\n",
       "      <td>70.000000</td>\n",
       "      <td>1.000000</td>\n",
       "    </tr>\n",
       "    <tr>\n",
       "      <th>25%</th>\n",
       "      <td>17.500000</td>\n",
       "      <td>4.000000</td>\n",
       "      <td>104.250000</td>\n",
       "      <td>2223.750000</td>\n",
       "      <td>13.825000</td>\n",
       "      <td>73.000000</td>\n",
       "      <td>1.000000</td>\n",
       "    </tr>\n",
       "    <tr>\n",
       "      <th>50%</th>\n",
       "      <td>23.000000</td>\n",
       "      <td>4.000000</td>\n",
       "      <td>148.500000</td>\n",
       "      <td>2803.500000</td>\n",
       "      <td>15.500000</td>\n",
       "      <td>76.000000</td>\n",
       "      <td>1.000000</td>\n",
       "    </tr>\n",
       "    <tr>\n",
       "      <th>75%</th>\n",
       "      <td>29.000000</td>\n",
       "      <td>8.000000</td>\n",
       "      <td>262.000000</td>\n",
       "      <td>3608.000000</td>\n",
       "      <td>17.175000</td>\n",
       "      <td>79.000000</td>\n",
       "      <td>2.000000</td>\n",
       "    </tr>\n",
       "    <tr>\n",
       "      <th>max</th>\n",
       "      <td>46.600000</td>\n",
       "      <td>8.000000</td>\n",
       "      <td>455.000000</td>\n",
       "      <td>5140.000000</td>\n",
       "      <td>24.800000</td>\n",
       "      <td>82.000000</td>\n",
       "      <td>3.000000</td>\n",
       "    </tr>\n",
       "  </tbody>\n",
       "</table>\n",
       "</div>"
      ],
      "text/plain": [
       "              mpg   cylinders  displacement       weight  acceleration  \\\n",
       "count  398.000000  398.000000    398.000000   398.000000    398.000000   \n",
       "mean    23.514573    5.454774    193.425879  2970.424623     15.568090   \n",
       "std      7.815984    1.701004    104.269838   846.841774      2.757689   \n",
       "min      9.000000    3.000000     68.000000  1613.000000      8.000000   \n",
       "25%     17.500000    4.000000    104.250000  2223.750000     13.825000   \n",
       "50%     23.000000    4.000000    148.500000  2803.500000     15.500000   \n",
       "75%     29.000000    8.000000    262.000000  3608.000000     17.175000   \n",
       "max     46.600000    8.000000    455.000000  5140.000000     24.800000   \n",
       "\n",
       "       model year      origin  \n",
       "count  398.000000  398.000000  \n",
       "mean    76.010050    1.572864  \n",
       "std      3.697627    0.802055  \n",
       "min     70.000000    1.000000  \n",
       "25%     73.000000    1.000000  \n",
       "50%     76.000000    1.000000  \n",
       "75%     79.000000    2.000000  \n",
       "max     82.000000    3.000000  "
      ]
     },
     "execution_count": 5,
     "metadata": {},
     "output_type": "execute_result"
    }
   ],
   "source": [
    "df.describe()"
   ]
  },
  {
   "cell_type": "code",
   "execution_count": 6,
   "id": "6ea25063",
   "metadata": {},
   "outputs": [
    {
     "data": {
      "text/plain": [
       "array(['130', '165', '150', '140', '198', '220', '215', '225', '190',\n",
       "       '170', '160', '95', '97', '85', '88', '46', '87', '90', '113',\n",
       "       '200', '210', '193', '?', '100', '105', '175', '153', '180', '110',\n",
       "       '72', '86', '70', '76', '65', '69', '60', '80', '54', '208', '155',\n",
       "       '112', '92', '145', '137', '158', '167', '94', '107', '230', '49',\n",
       "       '75', '91', '122', '67', '83', '78', '52', '61', '93', '148',\n",
       "       '129', '96', '71', '98', '115', '53', '81', '79', '120', '152',\n",
       "       '102', '108', '68', '58', '149', '89', '63', '48', '66', '139',\n",
       "       '103', '125', '133', '138', '135', '142', '77', '62', '132', '84',\n",
       "       '64', '74', '116', '82'], dtype=object)"
      ]
     },
     "execution_count": 6,
     "metadata": {},
     "output_type": "execute_result"
    }
   ],
   "source": [
    "df['horsepower'].unique()"
   ]
  },
  {
   "cell_type": "code",
   "execution_count": 7,
   "id": "f129d5cc",
   "metadata": {},
   "outputs": [
    {
     "name": "stdout",
     "output_type": "stream",
     "text": [
      "(398, 9)\n",
      "(392, 9)\n"
     ]
    }
   ],
   "source": [
    "print(df.shape)\n",
    "df = df[df['horsepower'] != '?']\n",
    "print(df.shape)"
   ]
  },
  {
   "cell_type": "code",
   "execution_count": 8,
   "id": "d8b319f3",
   "metadata": {},
   "outputs": [
    {
     "data": {
      "text/plain": [
       "mpg             0\n",
       "cylinders       0\n",
       "displacement    0\n",
       "horsepower      0\n",
       "weight          0\n",
       "acceleration    0\n",
       "model year      0\n",
       "origin          0\n",
       "car name        0\n",
       "dtype: int64"
      ]
     },
     "execution_count": 8,
     "metadata": {},
     "output_type": "execute_result"
    }
   ],
   "source": [
    "df['horsepower'] = df['horsepower'].astype(int)\n",
    "df.isnull().sum()"
   ]
  },
  {
   "cell_type": "code",
   "execution_count": 9,
   "id": "828b3201",
   "metadata": {},
   "outputs": [
    {
     "data": {
      "text/plain": [
       "mpg             127\n",
       "cylinders         5\n",
       "displacement     81\n",
       "horsepower       93\n",
       "weight          346\n",
       "acceleration     95\n",
       "model year       13\n",
       "origin            3\n",
       "car name        301\n",
       "dtype: int64"
      ]
     },
     "execution_count": 9,
     "metadata": {},
     "output_type": "execute_result"
    }
   ],
   "source": [
    "df.nunique()"
   ]
  },
  {
   "cell_type": "code",
   "execution_count": 10,
   "id": "5e0fae0d",
   "metadata": {},
   "outputs": [
    {
     "data": {
      "image/png": "[encoded data removed]",
      "text/plain": [
       "<Figure size 1080x360 with 2 Axes>"
      ]
     },
     "metadata": {
      "needs_background": "light"
     },
     "output_type": "display_data"
    }
   ],
   "source": [
    "plt.subplots(figsize=(15, 5))\n",
    "for i, col in enumerate(['cylinders', 'origin']):\n",
    "    plt.subplot(1, 2, i+1)\n",
    "    x = df.groupby(col).mean()['mpg']\n",
    "    x.plot.bar()\n",
    "    plt.xticks(rotation=0)\n",
    "plt.tight_layout()\n",
    "plt.show()"
   ]
  },
  {
   "cell_type": "code",
   "execution_count": 11,
   "id": "392dc5d2",
   "metadata": {},
   "outputs": [
    {
     "data": {
      "image/png": "[encoded data removed]",
      "text/plain": [
       "<Figure size 576x576 with 1 Axes>"
      ]
     },
     "metadata": {
      "needs_background": "light"
     },
     "output_type": "display_data"
    }
   ],
   "source": [
    "plt.figure(figsize=(8, 8))\n",
    "sb.heatmap(df.corr() > 0.9,\n",
    "\t\tannot=True,\n",
    "\t\tcbar=False)\n",
    "plt.show()"
   ]
  },
  {
   "cell_type": "code",
   "execution_count": 12,
   "id": "7addace7",
   "metadata": {},
   "outputs": [],
   "source": [
    "df.drop('displacement',\n",
    "        axis=1,\n",
    "        inplace=True)"
   ]
  },
  {
   "cell_type": "code",
   "execution_count": 13,
   "id": "9ada0955",
   "metadata": {},
   "outputs": [
    {
     "data": {
      "image/png": "[encoded data removed]",
      "text/plain": [
       "<Figure size 576x576 with 1 Axes>"
      ]
     },
     "metadata": {
      "needs_background": "light"
     },
     "output_type": "display_data"
    }
   ],
   "source": [
    "plt.figure(figsize=(8, 8))\n",
    "sb.heatmap(df.corr() > 0.9,\n",
    "\t\tannot=True,\n",
    "\t\tcbar=False)\n",
    "plt.show()"
   ]
  },
  {
   "cell_type": "code",
   "execution_count": 14,
   "id": "8df51f9c",
   "metadata": {},
   "outputs": [
    {
     "data": {
      "text/plain": [
       "((313, 6), (79, 6))"
      ]
     },
     "execution_count": 14,
     "metadata": {},
     "output_type": "execute_result"
    }
   ],
   "source": [
    "from sklearn.model_selection import train_test_split\n",
    "features = df.drop(['mpg', 'car name'], axis=1)\n",
    "target = df['mpg'].values\n",
    " \n",
    "X_train, X_val, \\\n",
    "    Y_train, Y_val = train_test_split(features, target,\n",
    "                                      test_size=0.2,\n",
    "                                      random_state=22)\n",
    "X_train.shape, X_val.shape"
   ]
  },
  {
   "cell_type": "code",
   "execution_count": 15,
   "id": "6bf02e8a",
   "metadata": {},
   "outputs": [],
   "source": [
    "AUTO = tf.data.experimental.AUTOTUNE\n",
    " \n",
    "train_ds = (\n",
    "    tf.data.Dataset\n",
    "    .from_tensor_slices((X_train, Y_train))\n",
    "    .batch(32)\n",
    "    .prefetch(AUTO)\n",
    ")\n",
    " \n",
    "val_ds = (\n",
    "    tf.data.Dataset\n",
    "    .from_tensor_slices((X_val, Y_val))\n",
    "    .batch(32)\n",
    "    .prefetch(AUTO)\n",
    ")"
   ]
  },
  {
   "cell_type": "code",
   "execution_count": 16,
   "id": "d16ba81d",
   "metadata": {},
   "outputs": [],
   "source": [
    "model = keras.Sequential([\n",
    "    layers.Dense(256, activation='relu', input_shape=[6]),\n",
    "    layers.BatchNormalization(),\n",
    "    layers.Dense(256, activation='relu'),\n",
    "    layers.Dropout(0.3),\n",
    "    layers.BatchNormalization(),\n",
    "    layers.Dense(1, activation='relu')\n",
    "])"
   ]
  },
  {
   "cell_type": "code",
   "execution_count": 17,
   "id": "31ecccc5",
   "metadata": {},
   "outputs": [],
   "source": [
    "model.compile(\n",
    "    loss='mae',\n",
    "    optimizer='adam',\n",
    "    metrics=['mape']\n",
    ")"
   ]
  },
  {
   "cell_type": "code",
   "execution_count": 18,
   "id": "22c07113",
   "metadata": {},
   "outputs": [
    {
     "name": "stdout",
     "output_type": "stream",
     "text": [
      "Model: \"sequential\"\n",
      "_________________________________________________________________\n",
      " Layer (type)                Output Shape              Param #   \n",
      "=================================================================\n",
      " dense (Dense)               (None, 256)               1792      \n",
      "                                                                 \n",
      " batch_normalization (BatchN  (None, 256)              1024      \n",
      " ormalization)                                                   \n",
      "                                                                 \n",
      " dense_1 (Dense)             (None, 256)               65792     \n",
      "                                                                 \n",
      " dropout (Dropout)           (None, 256)               0         \n",
      "                                                                 \n",
      " batch_normalization_1 (Batc  (None, 256)              1024      \n",
      " hNormalization)                                                 \n",
      "                                                                 \n",
      " dense_2 (Dense)             (None, 1)                 257       \n",
      "                                                                 \n",
      "=================================================================\n",
      "Total params: 69,889\n",
      "Trainable params: 68,865\n",
      "Non-trainable params: 1,024\n",
      "_________________________________________________________________\n"
     ]
    }
   ],
   "source": [
    "model.summary()"
   ]
  },
  {
   "cell_type": "code",
   "execution_count": 19,
   "id": "e1ed4ae2",
   "metadata": {},
   "outputs": [
    {
     "name": "stdout",
     "output_type": "stream",
     "text": [
      "Epoch 1/50\n",
      "10/10 [==============================] - 1s 22ms/step - loss: 20.6859 - mape: 89.4076 - val_loss: 22.4190 - val_mape: 100.0000\n",
      "Epoch 2/50\n",
      "10/10 [==============================] - 0s 5ms/step - loss: 18.2312 - mape: 81.0005 - val_loss: 22.4190 - val_mape: 100.0000\n",
      "Epoch 3/50\n",
      "10/10 [==============================] - 0s 6ms/step - loss: 16.5328 - mape: 75.1405 - val_loss: 22.4190 - val_mape: 100.0000\n",
      "Epoch 4/50\n",
      "10/10 [==============================] - 0s 6ms/step - loss: 15.0628 - mape: 69.9385 - val_loss: 22.4190 - val_mape: 100.0000\n",
      "Epoch 5/50\n",
      "10/10 [==============================] - 0s 6ms/step - loss: 13.8388 - mape: 65.5939 - val_loss: 22.4190 - val_mape: 100.0000\n",
      "Epoch 6/50\n",
      "10/10 [==============================] - 0s 6ms/step - loss: 12.7452 - mape: 61.6894 - val_loss: 22.4190 - val_mape: 100.0000\n",
      "Epoch 7/50\n",
      "10/10 [==============================] - 0s 6ms/step - loss: 11.8976 - mape: 58.5220 - val_loss: 22.4190 - val_mape: 100.0000\n",
      "Epoch 8/50\n",
      "10/10 [==============================] - 0s 6ms/step - loss: 11.2965 - mape: 56.0651 - val_loss: 22.3849 - val_mape: 99.8982\n",
      "Epoch 9/50\n",
      "10/10 [==============================] - 0s 6ms/step - loss: 10.8377 - mape: 54.4415 - val_loss: 21.7771 - val_mape: 98.0157\n",
      "Epoch 10/50\n",
      "10/10 [==============================] - 0s 6ms/step - loss: 10.2186 - mape: 51.8967 - val_loss: 20.0990 - val_mape: 92.9202\n",
      "Epoch 11/50\n",
      "10/10 [==============================] - 0s 6ms/step - loss: 9.7515 - mape: 49.8040 - val_loss: 17.8886 - val_mape: 85.8493\n",
      "Epoch 12/50\n",
      "10/10 [==============================] - 0s 6ms/step - loss: 9.3761 - mape: 48.4783 - val_loss: 15.6906 - val_mape: 78.2435\n",
      "Epoch 13/50\n",
      "10/10 [==============================] - 0s 6ms/step - loss: 8.9422 - mape: 46.5911 - val_loss: 12.7734 - val_mape: 67.0711\n",
      "Epoch 14/50\n",
      "10/10 [==============================] - 0s 6ms/step - loss: 8.6454 - mape: 45.3430 - val_loss: 10.9143 - val_mape: 59.7862\n",
      "Epoch 15/50\n",
      "10/10 [==============================] - 0s 8ms/step - loss: 8.2761 - mape: 43.6133 - val_loss: 9.2643 - val_mape: 51.4375\n",
      "Epoch 16/50\n",
      "10/10 [==============================] - 0s 8ms/step - loss: 7.9438 - mape: 42.3843 - val_loss: 8.9262 - val_mape: 48.1532\n",
      "Epoch 17/50\n",
      "10/10 [==============================] - 0s 7ms/step - loss: 7.6049 - mape: 40.7176 - val_loss: 10.6434 - val_mape: 54.7070\n",
      "Epoch 18/50\n",
      "10/10 [==============================] - 0s 8ms/step - loss: 7.4414 - mape: 39.5381 - val_loss: 13.3607 - val_mape: 65.2561\n",
      "Epoch 19/50\n",
      "10/10 [==============================] - 0s 6ms/step - loss: 7.1274 - mape: 38.0083 - val_loss: 16.1867 - val_mape: 80.6418\n",
      "Epoch 20/50\n",
      "10/10 [==============================] - 0s 6ms/step - loss: 6.9329 - mape: 36.9161 - val_loss: 17.8086 - val_mape: 88.8034\n",
      "Epoch 21/50\n",
      "10/10 [==============================] - 0s 8ms/step - loss: 6.5192 - mape: 35.1048 - val_loss: 19.0199 - val_mape: 97.5126\n",
      "Epoch 22/50\n",
      "10/10 [==============================] - 0s 9ms/step - loss: 6.4150 - mape: 34.7262 - val_loss: 18.3487 - val_mape: 94.5577\n",
      "Epoch 23/50\n",
      "10/10 [==============================] - 0s 6ms/step - loss: 6.2048 - mape: 33.3109 - val_loss: 16.4837 - val_mape: 84.3999\n",
      "Epoch 24/50\n",
      "10/10 [==============================] - 0s 7ms/step - loss: 6.0176 - mape: 32.7630 - val_loss: 12.6685 - val_mape: 63.5069\n",
      "Epoch 25/50\n",
      "10/10 [==============================] - 0s 7ms/step - loss: 5.9313 - mape: 32.1970 - val_loss: 11.1646 - val_mape: 57.7622\n",
      "Epoch 26/50\n",
      "10/10 [==============================] - 0s 8ms/step - loss: 5.9218 - mape: 31.6261 - val_loss: 10.6503 - val_mape: 54.7829\n",
      "Epoch 27/50\n",
      "10/10 [==============================] - 0s 7ms/step - loss: 5.6724 - mape: 30.5886 - val_loss: 9.8496 - val_mape: 50.5092\n",
      "Epoch 28/50\n",
      "10/10 [==============================] - 0s 6ms/step - loss: 5.7123 - mape: 30.4405 - val_loss: 9.7301 - val_mape: 50.6992\n",
      "Epoch 29/50\n",
      "10/10 [==============================] - 0s 7ms/step - loss: 5.7068 - mape: 31.0871 - val_loss: 8.6641 - val_mape: 44.2952\n",
      "Epoch 30/50\n",
      "10/10 [==============================] - 0s 8ms/step - loss: 5.4231 - mape: 29.5276 - val_loss: 9.3843 - val_mape: 48.6558\n",
      "Epoch 31/50\n",
      "10/10 [==============================] - 0s 8ms/step - loss: 5.4193 - mape: 29.1112 - val_loss: 8.8537 - val_mape: 44.7574\n",
      "Epoch 32/50\n",
      "10/10 [==============================] - 0s 7ms/step - loss: 5.4732 - mape: 29.6746 - val_loss: 9.2757 - val_mape: 49.2235\n",
      "Epoch 33/50\n",
      "10/10 [==============================] - 0s 7ms/step - loss: 5.4539 - mape: 28.4473 - val_loss: 9.2691 - val_mape: 47.7971\n",
      "Epoch 34/50\n",
      "10/10 [==============================] - 0s 8ms/step - loss: 5.1514 - mape: 27.5035 - val_loss: 8.6525 - val_mape: 44.6266\n",
      "Epoch 35/50\n",
      "10/10 [==============================] - 0s 8ms/step - loss: 5.3912 - mape: 28.6008 - val_loss: 9.1651 - val_mape: 46.9693\n",
      "Epoch 36/50\n",
      "10/10 [==============================] - 0s 7ms/step - loss: 5.1334 - mape: 27.4267 - val_loss: 11.5242 - val_mape: 61.3172\n",
      "Epoch 37/50\n",
      "10/10 [==============================] - 0s 7ms/step - loss: 5.2928 - mape: 27.3898 - val_loss: 13.3015 - val_mape: 69.3584\n",
      "Epoch 38/50\n",
      "10/10 [==============================] - 0s 9ms/step - loss: 4.9457 - mape: 26.1589 - val_loss: 13.8949 - val_mape: 71.6083\n",
      "Epoch 39/50\n",
      "10/10 [==============================] - 0s 7ms/step - loss: 4.7778 - mape: 25.1474 - val_loss: 10.7398 - val_mape: 55.4136\n",
      "Epoch 40/50\n",
      "10/10 [==============================] - 0s 7ms/step - loss: 4.9300 - mape: 26.0212 - val_loss: 10.0473 - val_mape: 53.1494\n",
      "Epoch 41/50\n",
      "10/10 [==============================] - 0s 11ms/step - loss: 4.5262 - mape: 24.3149 - val_loss: 9.0884 - val_mape: 47.2718\n",
      "Epoch 42/50\n",
      "10/10 [==============================] - 0s 7ms/step - loss: 4.5559 - mape: 24.0053 - val_loss: 11.3117 - val_mape: 61.0315\n",
      "Epoch 43/50\n",
      "10/10 [==============================] - 0s 6ms/step - loss: 4.6659 - mape: 24.6325 - val_loss: 10.9795 - val_mape: 57.0120\n",
      "Epoch 44/50\n",
      "10/10 [==============================] - 0s 6ms/step - loss: 4.3897 - mape: 22.9770 - val_loss: 12.7182 - val_mape: 68.1731\n",
      "Epoch 45/50\n",
      "10/10 [==============================] - 0s 6ms/step - loss: 4.5202 - mape: 23.1916 - val_loss: 11.0965 - val_mape: 56.0899\n",
      "Epoch 46/50\n",
      "10/10 [==============================] - 0s 6ms/step - loss: 4.2922 - mape: 22.5321 - val_loss: 11.4215 - val_mape: 58.1330\n",
      "Epoch 47/50\n",
      "10/10 [==============================] - 0s 6ms/step - loss: 4.2556 - mape: 22.3066 - val_loss: 12.4756 - val_mape: 63.4327\n",
      "Epoch 48/50\n",
      "10/10 [==============================] - 0s 5ms/step - loss: 4.0191 - mape: 21.1974 - val_loss: 12.6347 - val_mape: 65.3222\n",
      "Epoch 49/50\n",
      "10/10 [==============================] - 0s 6ms/step - loss: 4.1213 - mape: 21.3779 - val_loss: 9.9718 - val_mape: 50.4036\n",
      "Epoch 50/50\n",
      "10/10 [==============================] - 0s 6ms/step - loss: 4.0010 - mape: 20.6862 - val_loss: 9.0658 - val_mape: 47.8341\n"
     ]
    }
   ],
   "source": [
    "history = model.fit(train_ds,\n",
    "                    epochs=50,\n",
    "                    validation_data=val_ds)"
   ]
  },
  {
   "cell_type": "code",
   "execution_count": 20,
   "id": "b4d694b8",
   "metadata": {},
   "outputs": [
    {
     "data": {
      "text/html": [
       "<div>\n",
       "<style scoped>\n",
       "    .dataframe tbody tr th:only-of-type {\n",
       "        vertical-align: middle;\n",
       "    }\n",
       "\n",
       "    .dataframe tbody tr th {\n",
       "        vertical-align: top;\n",
       "    }\n",
       "\n",
       "    .dataframe thead th {\n",
       "        text-align: right;\n",
       "    }\n",
       "</style>\n",
       "<table border=\"1\" class=\"dataframe\">\n",
       "  <thead>\n",
       "    <tr style=\"text-align: right;\">\n",
       "      <th></th>\n",
       "      <th>loss</th>\n",
       "      <th>mape</th>\n",
       "      <th>val_loss</th>\n",
       "      <th>val_mape</th>\n",
       "    </tr>\n",
       "  </thead>\n",
       "  <tbody>\n",
       "    <tr>\n",
       "      <th>0</th>\n",
       "      <td>20.685890</td>\n",
       "      <td>89.407562</td>\n",
       "      <td>22.418987</td>\n",
       "      <td>100.0</td>\n",
       "    </tr>\n",
       "    <tr>\n",
       "      <th>1</th>\n",
       "      <td>18.231188</td>\n",
       "      <td>81.000465</td>\n",
       "      <td>22.418987</td>\n",
       "      <td>100.0</td>\n",
       "    </tr>\n",
       "    <tr>\n",
       "      <th>2</th>\n",
       "      <td>16.532770</td>\n",
       "      <td>75.140541</td>\n",
       "      <td>22.418987</td>\n",
       "      <td>100.0</td>\n",
       "    </tr>\n",
       "    <tr>\n",
       "      <th>3</th>\n",
       "      <td>15.062812</td>\n",
       "      <td>69.938507</td>\n",
       "      <td>22.418987</td>\n",
       "      <td>100.0</td>\n",
       "    </tr>\n",
       "    <tr>\n",
       "      <th>4</th>\n",
       "      <td>13.838779</td>\n",
       "      <td>65.593895</td>\n",
       "      <td>22.418987</td>\n",
       "      <td>100.0</td>\n",
       "    </tr>\n",
       "  </tbody>\n",
       "</table>\n",
       "</div>"
      ],
      "text/plain": [
       "        loss       mape   val_loss  val_mape\n",
       "0  20.685890  89.407562  22.418987     100.0\n",
       "1  18.231188  81.000465  22.418987     100.0\n",
       "2  16.532770  75.140541  22.418987     100.0\n",
       "3  15.062812  69.938507  22.418987     100.0\n",
       "4  13.838779  65.593895  22.418987     100.0"
      ]
     },
     "execution_count": 20,
     "metadata": {},
     "output_type": "execute_result"
    }
   ],
   "source": [
    "history_df = pd.DataFrame(history.history)\n",
    "history_df.head()"
   ]
  },
  {
   "cell_type": "code",
   "execution_count": 21,
   "id": "4baef89a",
   "metadata": {},
   "outputs": [
    {
     "data": {
      "image/png": "[encoded data removed]",
      "text/plain": [
       "<Figure size 432x288 with 1 Axes>"
      ]
     },
     "metadata": {
      "needs_background": "light"
     },
     "output_type": "display_data"
    },
    {
     "data": {
      "image/png": "[encoded data removed]",
      "text/plain": [
       "<Figure size 432x288 with 1 Axes>"
      ]
     },
     "metadata": {
      "needs_background": "light"
     },
     "output_type": "display_data"
    }
   ],
   "source": [
    "history_df.loc[:, ['loss', 'val_loss']].plot()\n",
    "history_df.loc[:, ['mape', 'val_mape']].plot()\n",
    "plt.show()"
   ]
  },
  {
   "cell_type": "code",
   "execution_count": null,
   "id": "9d8006f3",
   "metadata": {},
   "outputs": [],
   "source": []
  }
 ],
 "metadata": {
  "kernelspec": {
   "display_name": "Python 3 (ipykernel)",
   "language": "python",
   "name": "python3"
  },
  "language_info": {
   "codemirror_mode": {
    "name": "ipython",
    "version": 3
   },
   "file_extension": ".py",
   "mimetype": "text/x-python",
   "name": "python",
   "nbconvert_exporter": "python",
   "pygments_lexer": "ipython3",
   "version": "3.9.9"
  }
 },
 "nbformat": 4,
 "nbformat_minor": 5
}
